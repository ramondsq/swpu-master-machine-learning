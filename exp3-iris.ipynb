{
 "cells": [
  {
   "cell_type": "code",
   "execution_count": 6,
   "id": "initial_id",
   "metadata": {
    "ExecuteTime": {
     "end_time": "2023-12-13T02:30:22.772338500Z",
     "start_time": "2023-12-13T02:30:22.759336500Z"
    }
   },
   "outputs": [],
   "source": [
    "import matplotlib.pyplot as plt\n",
    "import numpy as np\n",
    "from sklearn import datasets\n",
    "from sklearn.model_selection import train_test_split\n",
    "from sklearn.cluster import KMeans\n",
    "from sklearn import metrics"
   ]
  },
  {
   "attachments": {},
   "cell_type": "markdown",
   "id": "aaf69778",
   "metadata": {},
   "source": [
    "# 一、加载数据集："
   ]
  },
  {
   "cell_type": "code",
   "execution_count": 7,
   "id": "2cd403bc",
   "metadata": {
    "ExecuteTime": {
     "end_time": "2023-12-13T02:30:25.209057400Z",
     "start_time": "2023-12-13T02:30:25.191057300Z"
    }
   },
   "outputs": [],
   "source": [
    "iris = datasets.load_iris() # 导入鸢尾花数据集\n",
    "# 数据拆分 \n",
    "iris_X_train , iris_X_test , iris_y_train , iris_y_test = train_test_split(iris.data,iris.target,test_size=0.2)\n"
   ]
  },
  {
   "attachments": {},
   "cell_type": "markdown",
   "id": "515db50a",
   "metadata": {},
   "source": [
    "# 二、配置模型"
   ]
  },
  {
   "cell_type": "code",
   "execution_count": 8,
   "id": "4d06d8ce",
   "metadata": {
    "ExecuteTime": {
     "end_time": "2023-12-13T02:30:27.082336400Z",
     "start_time": "2023-12-13T02:30:27.072836300Z"
    }
   },
   "outputs": [],
   "source": [
    "Kmeans = KMeans(n_clusters = 3)  #K-Means算法模型，3类标签"
   ]
  },
  {
   "cell_type": "markdown",
   "id": "03613154",
   "metadata": {},
   "source": [
    "# 三、训练模型"
   ]
  },
  {
   "cell_type": "code",
   "execution_count": 10,
   "id": "7668b70b",
   "metadata": {
    "ExecuteTime": {
     "end_time": "2023-12-13T02:31:39.968357300Z",
     "start_time": "2023-12-13T02:31:39.904327600Z"
    }
   },
   "outputs": [],
   "source": [
    "kmeans_fit=Kmeans.fit(iris_X_train) #模型训练"
   ]
  },
  {
   "cell_type": "markdown",
   "source": [
    "# 四、模型预测"
   ],
   "metadata": {
    "collapsed": false
   },
   "id": "6e8c5da2521af438"
  },
  {
   "cell_type": "code",
   "execution_count": 11,
   "outputs": [],
   "source": [
    "y_predict=Kmeans.predict(iris_X_train)\n",
    "#print(y_predict)"
   ],
   "metadata": {
    "collapsed": false,
    "ExecuteTime": {
     "end_time": "2023-12-13T02:32:44.645011900Z",
     "start_time": "2023-12-13T02:32:44.635017800Z"
    }
   },
   "id": "1d65610a2877c187"
  },
  {
   "cell_type": "markdown",
   "source": [
    "# 五、模型评估"
   ],
   "metadata": {
    "collapsed": false
   },
   "id": "90757906048d2d64"
  },
  {
   "cell_type": "code",
   "execution_count": 12,
   "outputs": [
    {
     "name": "stdout",
     "output_type": "stream",
     "text": [
      "准确率:0.083333\n"
     ]
    }
   ],
   "source": [
    "#iris_y_train[iris_y_train==11]=0\n",
    "#print(\"调整\",iris_y_train)  #显示调整后的预测\n",
    "score=metrics.accuracy_score(iris_y_train,Kmeans.predict(iris_X_train))\n",
    "print('准确率:{0:f}'.format(score))  #显示准确率输出：Accuracy:0.8\n"
   ],
   "metadata": {
    "collapsed": false,
    "ExecuteTime": {
     "end_time": "2023-12-13T02:33:23.108648300Z",
     "start_time": "2023-12-13T02:33:23.049658600Z"
    }
   },
   "id": "adb2c46606c52f79"
  },
  {
   "cell_type": "markdown",
   "source": [
    "# 六、结果可视化\n",
    "因为图形只有两个维度X和Y，所以该程序只有将特征值的第一个和第二个分别当成表格中X和Y的位置，第三个和第四个特征值虽然在计算时会使用，但显示图片的时候就不使用。\n"
   ],
   "metadata": {
    "collapsed": false
   },
   "id": "2f2c217bee3cdf34"
  },
  {
   "cell_type": "code",
   "execution_count": 13,
   "outputs": [
    {
     "data": {
      "text/plain": "<Figure size 432x288 with 1 Axes>",
      "image/png": "[encoded data removed]"
     },
     "metadata": {
      "needs_background": "light"
     },
     "output_type": "display_data"
    }
   ],
   "source": [
    "x1=iris_X_train[:, 0] #鸢尾花花萼长度\n",
    "y1=iris_X_train[:, 1] #鸢尾花花萼宽度\n",
    "plt.scatter(x1,y1, c=y_predict, cmap='viridis') #画每一条的位置\n",
    "\n",
    "centers = Kmeans.cluster_centers_  #每个分类的中心点\n",
    "plt.scatter(centers[:, 0], centers[:, 1], c='black', s=200, alpha=0.5); #中心点\n",
    "plt.show()  #显示图像\n"
   ],
   "metadata": {
    "collapsed": false,
    "ExecuteTime": {
     "end_time": "2023-12-13T02:34:10.453460400Z",
     "start_time": "2023-12-13T02:34:10.313179900Z"
    }
   },
   "id": "3823879ff1420eba"
  },
  {
   "cell_type": "code",
   "execution_count": null,
   "outputs": [],
   "source": [],
   "metadata": {
    "collapsed": false
   },
   "id": "511a3e0933c7bdd4"
  }
 ],
 "metadata": {
  "kernelspec": {
   "display_name": "Python 3",
   "language": "python",
   "name": "python3"
  },
  "language_info": {
   "codemirror_mode": {
    "name": "ipython",
    "version": 3
   },
   "file_extension": ".py",
   "mimetype": "text/x-python",
   "name": "python",
   "nbconvert_exporter": "python",
   "pygments_lexer": "ipython3",
   "version": "3.6.13"
  }
 },
 "nbformat": 4,
 "nbformat_minor": 5
}
