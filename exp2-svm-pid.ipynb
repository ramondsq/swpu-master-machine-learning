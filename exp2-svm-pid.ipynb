{
 "cells": [
  {
   "cell_type": "code",
   "execution_count": 1,
   "id": "5bc36f7b",
   "metadata": {},
   "outputs": [
    {
     "name": "stdout",
     "output_type": "stream",
     "text": [
      "Cross-validated scores: [0.75974026 0.75324675 0.74025974 0.81045752 0.76470588]\n",
      "Average score: 0.7656820303879128\n",
      "Test set accuracy: 0.7445887445887446\n",
      "Predicted labels: [0 0 0 0 1 0 0 1 1 1 0 1 0 0 0 0 0 0 1 1 0 0 0 0 1 1 0 0 0 0 1 1 1 1 1 1 1\n",
      " 0 0 1 0 1 0 0 0 1 1 0 0 1 0 1 1 0 0 0 1 0 0 1 1 0 0 0 0 1 0 1 0 1 1 0 0 0\n",
      " 0 0 0 0 0 0 1 0 0 0 0 1 1 0 0 0 0 0 0 1 1 1 0 0 1 0 1 0 1 1 1 0 0 1 0 0 0\n",
      " 0 0 1 0 0 1 0 0 1 0 0 0 0 0 0 0 1 1 1 1 1 0 0 1 0 0 1 1 0 0 0 0 0 0 0 0 0\n",
      " 0 1 0 0 0 0 0 0 0 1 1 0 1 1 0 0 0 1 0 0 1 1 1 0 0 1 1 0 0 0 0 0 1 1 0 1 1\n",
      " 0 0 0 1 0 0 0 1 0 0 0 0 0 0 1 0 0 0 0 1 0 0 0 1 1 0 0 0 0 1 0 1 0 0 1 1 0\n",
      " 0 0 0 1 0 0 0 0 0]\n"
     ]
    }
   ],
   "source": [
    "import numpy as np\n",
    "from sklearn import svm\n",
    "from sklearn.model_selection import train_test_split, cross_val_score\n",
    "import pandas as pd\n",
    "\n",
    "# 加载数据集\n",
    "data_path = './datasets/pima-indians-diabetes.data.csv'  # 数据文件路径，注意修改为正确的路径\n",
    "data = pd.read_csv(data_path, header=None)  # Pima数据集通常没有标题行\n",
    "\n",
    "# 数据分割\n",
    "# 将特征和目标变量分开\n",
    "X = data.iloc[:, :-1].values  # 所有行，除了最后一列\n",
    "y = data.iloc[:, -1].values   # 所有行，只有最后一列\n",
    "\n",
    "# 划分训练集和测试集\n",
    "X_train, X_test, y_train, y_test = train_test_split(X, y, test_size=0.3, random_state=42)  # 70%训练，30%测试\n",
    "\n",
    "# 定义SVM分类器\n",
    "def classifier():\n",
    "    clf = svm.SVC(kernel='linear')  # 使用线性核\n",
    "    return clf\n",
    "\n",
    "# 训练SVM分类器\n",
    "clf = classifier()\n",
    "clf.fit(X_train, y_train)\n",
    "\n",
    "# 使用交叉验证来评估模型性能\n",
    "scores = cross_val_score(clf, X, y, cv=5)  # 5折交叉验证\n",
    "print(\"Cross-validated scores:\", scores)\n",
    "print(\"Average score:\", scores.mean())\n",
    "\n",
    "# 测试集上的准确率\n",
    "accuracy_test = clf.score(X_test, y_test)\n",
    "print(\"Test set accuracy:\", accuracy_test)\n",
    "\n",
    "# 使用训练好的模型进行预测\n",
    "y_pred = clf.predict(X_test)\n",
    "\n",
    "# 打印出预测结果\n",
    "print(\"Predicted labels:\", y_pred)\n"
   ]
  },
  {
   "cell_type": "code",
   "execution_count": null,
   "id": "3cf847b1",
   "metadata": {},
   "outputs": [],
   "source": []
  }
 ],
 "metadata": {
  "kernelspec": {
   "display_name": "Python 3",
   "language": "python",
   "name": "python3"
  },
  "language_info": {
   "codemirror_mode": {
    "name": "ipython",
    "version": 3
   },
   "file_extension": ".py",
   "mimetype": "text/x-python",
   "name": "python",
   "nbconvert_exporter": "python",
   "pygments_lexer": "ipython3",
   "version": "3.6.13"
  }
 },
 "nbformat": 4,
 "nbformat_minor": 5
}
