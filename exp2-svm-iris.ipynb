{
 "cells": [
  {
   "cell_type": "markdown",
   "source": [
    "# 首先导入必要的包：\n",
    "numpy：python第三方库，用于科学计算\n",
    "matplotlib:python第三方库，主要用于进行可视化\n",
    "sklearn:python的重要机器学习库，其中封装了大量的机器学习算法，如：分类、回归、降维以及聚类\n"
   ],
   "metadata": {
    "collapsed": false
   },
   "id": "e4434aa7d4a151ed"
  },
  {
   "cell_type": "code",
   "execution_count": 21,
   "outputs": [],
   "source": [
    "import numpy as np\n",
    "from matplotlib import colors\n",
    "from sklearn import svm\n",
    "from sklearn.svm import SVC\n",
    "from sklearn import model_selection\n",
    "import matplotlib.pyplot as plt\n",
    "import matplotlib as mpl"
   ],
   "metadata": {
    "collapsed": false,
    "ExecuteTime": {
     "end_time": "2023-12-05T02:21:38.776871800Z",
     "start_time": "2023-12-05T02:21:38.747361300Z"
    }
   },
   "id": "6bfb80b7db3f30f2"
  },
  {
   "cell_type": "markdown",
   "source": [
    "# Step1.数据准备\n",
    "(1)从指定路径下加载数据\n",
    "(2)对加载的数据进行数据分割，x_train,x_test,y_train,y_test分别表示训练集特征、训练集标签、测试集特征、测试集标签\n"
   ],
   "metadata": {
    "collapsed": false
   },
   "id": "f00b66d1ac524572"
  },
  {
   "cell_type": "code",
   "execution_count": 22,
   "outputs": [],
   "source": [
    "#*************将字符串转为整型，便于数据加载transform  the  dtype  from  string  into  integer***********************\n",
    "def iris_type(s):\n",
    "    it = {b'Iris-setosa': 0, b'Iris-versicolor': 1, b'Iris-virginica': 2}\n",
    "    return it[s]\n",
    "\n",
    "\n",
    "#load  data\n",
    "data_path = './datasets/iris.data'  #数据文件的路径。注意修改路径\n",
    "data = np.loadtxt(data_path,  #数据文件路径\n",
    "                  dtype=float,  #数据类型\n",
    "                  delimiter=',',  #数据分隔符\n",
    "                  converters={4: iris_type})  #将第5列使用函数iris_type进行转换\n",
    "#print(data)                                                                                                  #data为二维数组，data.shape=(150,  5)\n",
    "#print(data.shape)\n",
    "#数据分割\n",
    "x, y = np.split(data,  #要切分的数组\n",
    "                (4,),  #沿轴切分的位置，第5列开始往后为y\n",
    "                axis=1)  #代表纵向分割，按列分割\n",
    "x = x[:, 1:3]  #在X中我们取前两列作为特征，为了后面的可视化。x[:,0:4]代表第一维(行)全取，第二维(列)取0~2\n",
    "#print(x)\n",
    "x_train, x_test, y_train, y_test = model_selection.train_test_split(x,  #所要划分的样本特征集\n",
    "                                                                    y,  #所要划分的样本结果\n",
    "                                                                    random_state=1,  #随机数种子\n",
    "                                                                    test_size=0.3)  #测试样本占比\n",
    "\n"
   ],
   "metadata": {
    "collapsed": false,
    "ExecuteTime": {
     "end_time": "2023-12-05T02:21:38.835883200Z",
     "start_time": "2023-12-05T02:21:38.767875Z"
    }
   },
   "id": "b7ce276b4a9298f9"
  },
  {
   "cell_type": "markdown",
   "source": [],
   "metadata": {
    "collapsed": false
   },
   "id": "a03cad3d9d7e16d6"
  },
  {
   "cell_type": "markdown",
   "source": [
    "# Step2.模型搭建\n",
    "C越大，相当于惩罚松弛变量，希望松弛变量接近0，即对误分类的惩罚增大，趋向于对训练集全分对的情况，这样对训练集测试时准确率很高，但泛化能力弱。  C值小，对误分类的惩罚减小，允许容错，将他们当成噪声点，泛化能力较强。\n",
    "kernel='linear'时，为线性核\n",
    "decision_function_shape='ovr'时，为one  v  rest，即一个类别与其他类别进行划分，\n",
    "decision_function_shape='ovo'时，为one  v  one，即将类别两两之间进行划分，用二分类的方法模拟多分类的结果。\n"
   ],
   "metadata": {
    "collapsed": false
   },
   "id": "9599fde61bb60b37"
  },
  {
   "cell_type": "code",
   "execution_count": 23,
   "outputs": [],
   "source": [
    "#**********************Model  via  SVM　method*************************\n",
    "def classifier():\n",
    "    #clf  =  svm.SVC(C=0.8,kernel='rbf',  gamma=50,decision_function_shape='ovr')\n",
    "    clf = svm.SVC(C=0.2,  #误差项惩罚系数,默认值是1\n",
    "                  kernel='linear',  #线性核  kenrel=\"rbf\":高斯核\n",
    "                  decision_function_shape='ovr')  #决策函数\n",
    "    return clf\n",
    "\n",
    "\n",
    "#  2.定义模型：SVM模型定义\n",
    "#clf  =  classifier()\n",
    "clf = svm.SVC(C=0.5, kernel='rbf')\n"
   ],
   "metadata": {
    "collapsed": false,
    "ExecuteTime": {
     "end_time": "2023-12-05T02:21:38.836882200Z",
     "start_time": "2023-12-05T02:21:38.782876300Z"
    }
   },
   "id": "1647f843dd59be02"
  },
  {
   "cell_type": "markdown",
   "source": [
    "# Step3.模型训练"
   ],
   "metadata": {
    "collapsed": false
   },
   "id": "73c93e7c72405763"
  },
  {
   "cell_type": "code",
   "execution_count": 24,
   "outputs": [],
   "source": [
    "#***********************Training  model  *****************************\n",
    "def train(clf, x_train, y_train):\n",
    "    clf.fit(x_train,  #training  feature\n",
    "            y_train.ravel())  #  training  label\n",
    "\n",
    "\n",
    "#  3.training  the  SVM  model\n",
    "train(clf, x_train, y_train)\n",
    "\n"
   ],
   "metadata": {
    "collapsed": false,
    "ExecuteTime": {
     "end_time": "2023-12-05T02:21:38.836882200Z",
     "start_time": "2023-12-05T02:21:38.797873700Z"
    }
   },
   "id": "c542be9ec4cf807a"
  },
  {
   "cell_type": "markdown",
   "source": [
    "# Step4.模型评估"
   ],
   "metadata": {
    "collapsed": false
   },
   "id": "4618a6114a28dfc2"
  },
  {
   "cell_type": "code",
   "execution_count": 25,
   "outputs": [],
   "source": [
    "#**************Judge  wether  a    and  b  is  equal.  To  computer  the  accueacy  value.*************\n",
    "def show_accuracy(a, b, tip):\n",
    "    acc = a.ravel() == b.ravel()\n",
    "    print('%s  Accuracy:%.3f' % (tip, np.mean(acc)))\n",
    "\n",
    "\n",
    "def print_accuracy(clf, x_train, y_train, x_test, y_test):\n",
    "    #  score(x_train,y_train):denote  the  accuracy  on  model  of  x_train,y_train\n",
    "    print('trianing  prediction:%.3f' % (clf.score(x_train, y_train)))\n",
    "    print('test  data  prediction:%.3f' % (clf.score(x_test, y_test)))\n",
    "    #原始结果与预测结果进行对比      predict()表示对x_train样本进行预测，返回样本类别\n",
    "    ###on  training  dataset\n",
    "    show_accuracy(clf.predict(x_train), y_train, 'traing  data')\n",
    "    ###  on  text  dataset\n",
    "    show_accuracy(clf.predict(x_test), y_test, 'testing  data')\n",
    "    #计算决策函数的值，表示x到各分割平面的距离\n",
    "    print('decision_function:\\n', clf.decision_function(x_train))\n",
    "\n"
   ],
   "metadata": {
    "collapsed": false,
    "ExecuteTime": {
     "end_time": "2023-12-05T02:21:38.837883200Z",
     "start_time": "2023-12-05T02:21:38.817872800Z"
    }
   },
   "id": "4c10391e9fdc24d7"
  },
  {
   "cell_type": "markdown",
   "source": [
    "# Step5.模型使用"
   ],
   "metadata": {
    "collapsed": false
   },
   "id": "d1eb6b76bacc24b0"
  },
  {
   "cell_type": "code",
   "execution_count": 26,
   "outputs": [
    {
     "name": "stdout",
     "output_type": "stream",
     "text": [
      "grid_test:\n",
      " [[2.         1.        ]\n",
      " [2.         1.02964824]\n",
      " [2.         1.05929648]\n",
      " ...\n",
      " [4.4        6.84070352]\n",
      " [4.4        6.87035176]\n",
      " [4.4        6.9       ]]\n",
      "the  distance  to  decision  plane:\n",
      " [[ 2.19708942  0.87358871 -0.15174756]\n",
      " [ 2.19726697  0.8746476  -0.15286771]\n",
      " [ 2.19738191  0.87584638 -0.15396082]\n",
      " ...\n",
      " [-0.15774848  0.88166138  2.19721463]\n",
      " [-0.15703655  0.88287492  2.19629867]\n",
      " [-0.15630774  0.88414976  2.19534442]]\n",
      "grid_hat:\n",
      " [0. 0. 0. ... 2. 2. 2.]\n"
     ]
    },
    {
     "name": "stderr",
     "output_type": "stream",
     "text": [
      "C:\\Users\\qurui\\anaconda3\\envs\\mlexp\\lib\\site-packages\\ipykernel_launcher.py:21: MatplotlibDeprecationWarning: shading='flat' when X and Y have the same dimensions as C is deprecated since 3.3.  Either specify the corners of the quadrilaterals with X and Y, or pass shading='auto', 'nearest' or 'gouraud', or set rcParams['pcolor.shading'].  This will become an error two minor releases later.\n"
     ]
    },
    {
     "data": {
      "text/plain": "<Figure size 432x288 with 1 Axes>",
      "image/png": "[encoded data removed]"
     },
     "metadata": {
      "needs_background": "light"
     },
     "output_type": "display_data"
    }
   ],
   "source": [
    "def draw(clf, x):\n",
    "    iris_feature = 'sepal  length', 'sepal  width', 'petal  lenght', 'petal  width'\n",
    "    #  begin  draw\n",
    "    x1_min, x1_max = x[:, 0].min(), x[:, 0].max()  #The  min  and  max  value  of  the  first  coloum\n",
    "    x2_min, x2_max = x[:, 1].min(), x[:, 1].max()  #The  min  and  max  value  of  the  second  coloum\n",
    "    x1, x2 = np.mgrid[x1_min:x1_max:200j, x2_min:x2_max:200j]  #to  show  samples\n",
    "    grid_test = np.stack((x1.flat, x2.flat), axis=1)  #stack():沿着新的轴加入一系列数组\n",
    "    print('grid_test:\\n', grid_test)\n",
    "    #  distance  between  data  to  the  hyperplane\n",
    "    z = clf.decision_function(grid_test)\n",
    "    print('the  distance  to  decision  plane:\\n', z)\n",
    "\n",
    "    grid_hat = clf.predict(grid_test)  #  predict  result【0,0,  ....,  2,2,2】\n",
    "    print('grid_hat:\\n', grid_hat)\n",
    "    grid_hat = grid_hat.reshape(x1.shape)  #  reshape  grid_hat和x1形状一致\n",
    "    #若3*3矩阵e，则e.shape()为3*3,表示3行3列      \n",
    "\n",
    "    cm_light = mpl.colors.ListedColormap(['#A0FFA0', '#FFA0A0', '#A0A0FF'])\n",
    "    cm_dark = mpl.colors.ListedColormap(['g', 'r', 'b'])\n",
    "\n",
    "    plt.pcolormesh(x1, x2, grid_hat, cmap=cm_light)  #  pcolormesh(x,y,z,cmap)这里参数代入\n",
    "    #  x1，x2，grid_hat，cmap=cm_light绘制的是背景。\n",
    "    plt.scatter(x[:, 0], x[:, 1], c=np.squeeze(y), edgecolor='k', s=50, cmap=cm_dark)  #  样本点\n",
    "    plt.scatter(x_test[:, 0], x_test[:, 1], s=120, facecolor='none', zorder=10)  #  测试点\n",
    "    plt.xlabel(iris_feature[0], fontsize=20)\n",
    "    plt.ylabel(iris_feature[1], fontsize=20)\n",
    "    plt.xlim(x1_min, x1_max)\n",
    "    plt.ylim(x2_min, x2_max)\n",
    "    plt.title('svm  in  iris  data  classification', fontsize=30)\n",
    "    plt.grid()\n",
    "    plt.show()\n",
    "\n",
    "\n",
    "#  5.applying  model\n",
    "draw(clf, x)\n",
    "\n"
   ],
   "metadata": {
    "collapsed": false,
    "ExecuteTime": {
     "end_time": "2023-12-05T02:21:39.146162800Z",
     "start_time": "2023-12-05T02:21:38.826872800Z"
    }
   },
   "id": "1583eb3e6f304fe8"
  }
 ],
 "metadata": {
  "kernelspec": {
   "display_name": "Python 3",
   "language": "python",
   "name": "python3"
  },
  "language_info": {
   "codemirror_mode": {
    "name": "ipython",
    "version": 2
   },
   "file_extension": ".py",
   "mimetype": "text/x-python",
   "name": "python",
   "nbconvert_exporter": "python",
   "pygments_lexer": "ipython2",
   "version": "2.7.6"
  }
 },
 "nbformat": 4,
 "nbformat_minor": 5
}
