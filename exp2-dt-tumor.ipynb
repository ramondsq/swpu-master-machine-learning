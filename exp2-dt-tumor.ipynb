{
 "cells": [
  {
   "cell_type": "code",
   "execution_count": 3,
   "id": "6fa4df7a",
   "metadata": {
    "ExecuteTime": {
     "end_time": "2023-12-05T03:35:25.102597800Z",
     "start_time": "2023-12-05T03:35:24.477153500Z"
    }
   },
   "outputs": [
    {
     "name": "stdout",
     "output_type": "stream",
     "text": [
      "准确率： 0.9415204678362573 \n",
      "分类报告：\n",
      "               precision    recall  f1-score   support\n",
      "\n",
      "           0       0.90      0.95      0.92        63\n",
      "           1       0.97      0.94      0.95       108\n",
      "\n",
      "    accuracy                           0.94       171\n",
      "   macro avg       0.93      0.94      0.94       171\n",
      "weighted avg       0.94      0.94      0.94       171\n",
      " \n",
      "混淆矩阵：\n",
      " [[ 60   3]\n",
      " [  7 101]]\n"
     ]
    }
   ],
   "source": [
    "from sklearn.datasets import load_breast_cancer\n",
    "from sklearn.model_selection import train_test_split\n",
    "from sklearn.tree import DecisionTreeClassifier\n",
    "from sklearn.metrics import accuracy_score, classification_report, confusion_matrix\n",
    "from sklearn.model_selection import GridSearchCV\n",
    "\n",
    "# 加载数据集\n",
    "data = load_breast_cancer()\n",
    "X = data.data\n",
    "y = data.target\n",
    "\n",
    "# 数据集分割\n",
    "X_train, X_test, y_train, y_test = train_test_split(X, y, test_size=0.3, random_state=42)\n",
    "\n",
    "# 配置决策树模型\n",
    "dt_classifier = DecisionTreeClassifier(random_state=42)\n",
    "\n",
    "# 训练模型\n",
    "dt_classifier.fit(X_train, y_train)\n",
    "\n",
    "# 模型预测\n",
    "predictions = dt_classifier.predict(X_test)\n",
    "\n",
    "# 模型评估\n",
    "accuracy = accuracy_score(y_test, predictions)\n",
    "report = classification_report(y_test, predictions)\n",
    "conf_matrix = confusion_matrix(y_test, predictions)\n",
    "\n",
    "print('准确率：', accuracy, '\\n分类报告：\\n', report, '\\n混淆矩阵：\\n', conf_matrix)\n"
   ]
  },
  {
   "cell_type": "markdown",
   "id": "1983376d",
   "metadata": {},
   "source": [
    "# 参数调优"
   ]
  },
  {
   "cell_type": "code",
   "execution_count": 4,
   "id": "e1eab499",
   "metadata": {},
   "outputs": [
    {
     "name": "stdout",
     "output_type": "stream",
     "text": [
      "\n",
      "最佳参数： {'max_depth': 3, 'min_samples_leaf': 1, 'min_samples_split': 2} \n",
      "最佳得分： 0.9246518987341773\n"
     ]
    }
   ],
   "source": [
    "# 参数调优\n",
    "parameters = {'max_depth': [3, 5, 7, 10], 'min_samples_split': [2, 4, 6], 'min_samples_leaf': [1, 2, 3]}\n",
    "grid_search = GridSearchCV(dt_classifier, parameters, cv=5)\n",
    "grid_search.fit(X_train, y_train)\n",
    "\n",
    "best_params = grid_search.best_params_\n",
    "best_score = grid_search.best_score_\n",
    "\n",
    "print('\\n最佳参数：', best_params, '\\n最佳得分：', best_score)"
   ]
  },
  {
   "cell_type": "code",
   "execution_count": 6,
   "id": "9dea2c64",
   "metadata": {},
   "outputs": [
    {
     "name": "stdout",
     "output_type": "stream",
     "text": [
      "准确率： 0.9649122807017544 \n",
      "分类报告：\n",
      "               precision    recall  f1-score   support\n",
      "\n",
      "           0       0.97      0.94      0.95        63\n",
      "           1       0.96      0.98      0.97       108\n",
      "\n",
      "    accuracy                           0.96       171\n",
      "   macro avg       0.97      0.96      0.96       171\n",
      "weighted avg       0.96      0.96      0.96       171\n",
      " \n",
      "混淆矩阵：\n",
      " [[ 59   4]\n",
      " [  2 106]]\n"
     ]
    }
   ],
   "source": [
    "# 应用参数调优的最佳参数\n",
    "optimized_dt_classifier = DecisionTreeClassifier(**best_params, random_state=42)\n",
    "\n",
    "# 重新训练模型\n",
    "optimized_dt_classifier.fit(X_train, y_train)\n",
    "\n",
    "# 使用优化后的模型进行预测\n",
    "optimized_predictions = optimized_dt_classifier.predict(X_test)\n",
    "\n",
    "# 重新评估模型准确率\n",
    "optimized_accuracy = accuracy_score(y_test, optimized_predictions)\n",
    "optimized_report = classification_report(y_test, optimized_predictions)\n",
    "optimized_conf_matrix = confusion_matrix(y_test, optimized_predictions)\n",
    "\n",
    "\n",
    "print('准确率：', optimized_accuracy, '\\n分类报告：\\n', optimized_report, '\\n混淆矩阵：\\n', optimized_conf_matrix)"
   ]
  },
  {
   "cell_type": "code",
   "execution_count": null,
   "id": "3d2a36b0",
   "metadata": {},
   "outputs": [],
   "source": []
  }
 ],
 "metadata": {
  "kernelspec": {
   "display_name": "Python 3",
   "language": "python",
   "name": "python3"
  },
  "language_info": {
   "codemirror_mode": {
    "name": "ipython",
    "version": 3
   },
   "file_extension": ".py",
   "mimetype": "text/x-python",
   "name": "python",
   "nbconvert_exporter": "python",
   "pygments_lexer": "ipython3",
   "version": "3.6.13"
  }
 },
 "nbformat": 4,
 "nbformat_minor": 5
}
