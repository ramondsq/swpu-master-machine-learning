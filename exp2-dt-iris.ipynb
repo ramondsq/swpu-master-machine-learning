{
 "cells": [
  {
   "attachments": {},
   "cell_type": "markdown",
   "id": "c461b916",
   "metadata": {},
   "source": [
    "# 一、加载数据集"
   ]
  },
  {
   "cell_type": "code",
   "execution_count": 1,
   "id": "2aa3a7e6",
   "metadata": {},
   "outputs": [
    {
     "name": "stdout",
     "output_type": "stream",
     "text": [
      "iris数据集特征\n",
      "[[5.1 3.5 1.4 0.2]\n",
      " [4.9 3.  1.4 0.2]\n",
      " [4.7 3.2 1.3 0.2]\n",
      " [4.6 3.1 1.5 0.2]\n",
      " [5.  3.6 1.4 0.2]\n",
      " [5.4 3.9 1.7 0.4]\n",
      " [4.6 3.4 1.4 0.3]\n",
      " [5.  3.4 1.5 0.2]\n",
      " [4.4 2.9 1.4 0.2]\n",
      " [4.9 3.1 1.5 0.1]]\n",
      "iris数据集标签\n",
      "[0 0 0 0 0 0 0 0 0 0]\n"
     ]
    }
   ],
   "source": [
    "from sklearn.datasets import load_iris # 导入鸢尾花数据集\n",
    "iris = load_iris() # 载入数据集\n",
    "print('iris数据集特征')\n",
    "print(iris.data[:10])\n",
    "\n",
    "print('iris数据集标签')\n",
    "print(iris.target[:10])\n"
   ]
  },
  {
   "attachments": {},
   "cell_type": "markdown",
   "id": "6a73c2ec",
   "metadata": {},
   "source": [
    "# 二、配置模型"
   ]
  },
  {
   "cell_type": "code",
   "execution_count": 3,
   "id": "8678c7da",
   "metadata": {},
   "outputs": [],
   "source": [
    "from sklearn import tree # 导入决策树包\n",
    "clf = tree.DecisionTreeClassifier() #加载决策树模型\n"
   ]
  },
  {
   "attachments": {},
   "cell_type": "markdown",
   "id": "b9b46fbf",
   "metadata": {},
   "source": [
    "# 三、训练模型\n",
    "将五分之四的数据集作为训练集对加载进来的决策树模型进行训练"
   ]
  },
  {
   "cell_type": "code",
   "execution_count": 4,
   "id": "9c814e29",
   "metadata": {},
   "outputs": [
    {
     "data": {
      "text/plain": [
       "DecisionTreeClassifier()"
      ]
     },
     "execution_count": 4,
     "metadata": {},
     "output_type": "execute_result"
    }
   ],
   "source": [
    "clf.fit(iris.data[:120], iris.target[:120]) #模型训练，取前五分之四作训练集"
   ]
  },
  {
   "attachments": {},
   "cell_type": "markdown",
   "id": "e2f87d67",
   "metadata": {},
   "source": [
    "# 四、模型预测\n",
    "将五分之一的数据集作为预测集，采用训练好的决策树模型对其进行预测"
   ]
  },
  {
   "cell_type": "code",
   "execution_count": 5,
   "id": "cc675a9f",
   "metadata": {},
   "outputs": [
    {
     "data": {
      "text/plain": [
       "array([2, 1, 2, 1, 2, 2, 1, 1, 2, 1])"
      ]
     },
     "execution_count": 5,
     "metadata": {},
     "output_type": "execute_result"
    }
   ],
   "source": [
    "predictions = clf.predict(iris.data[120:]) # 模型测试，取后五分之一作测试集\n",
    "predictions[:10]\n"
   ]
  },
  {
   "attachments": {},
   "cell_type": "markdown",
   "id": "28bb036f",
   "metadata": {},
   "source": [
    "# 五、模型评估\n",
    "\n",
    "TP: 将正类预测为正类数 (预测正确) （正类）\n",
    "\n",
    "FN: 将正类预测为负类数（预测错误）（正类）\n",
    "\n",
    "FP: 将负类预测为正类数（预测错误）（负类）\n",
    "\n",
    "TN: 将负类预测为负类数（预测正确）（负类）\n",
    "\n",
    "TP+TN：预测结果正确的数量\n",
    "\n",
    "TP+FP：预测结果为正类的数量\n",
    "\n",
    "TP+FN：样本中所有的正类的数量\n",
    "\n",
    "TP+TN+FP+FN：样本总数\n",
    "\n",
    "我们采用准确率(accuracy)作为我们的评估函数：预测结果正确的数量占样本总数，(TP+TN)/(TP+TN+FP+FN)"
   ]
  },
  {
   "cell_type": "code",
   "execution_count": 6,
   "id": "41aa52ed",
   "metadata": {},
   "outputs": [
    {
     "name": "stdout",
     "output_type": "stream",
     "text": [
      "Accuracy:0.7333333333333333\n"
     ]
    }
   ],
   "source": [
    "from sklearn.metrics import accuracy_score # 导入准确率评价指标\n",
    "print('Accuracy:%s'% accuracy_score(iris.target[120:], predictions))\n"
   ]
  },
  {
   "attachments": {},
   "cell_type": "markdown",
   "id": "74531a34",
   "metadata": {},
   "source": [
    "# 六、决策树调参\n",
    "\n",
    "调参的这个参数一般指的是超参数。\n",
    "\n",
    "简单来说，机器学习的目的是在一个假设空间中学到在损失意义下最接近真实函数的那个假设。而超参数决定的是你在哪个假设空间进行学习。调参其实就是在选假设空间。其中决策树可进行调整的超参数下图所示。\n",
    "\n",
    "sklearn中的决策树包括若干个参数，其中每个参数对应的取值如注释所示。\n",
    "\n",
    "接下来我们对几个参数进行调整作演示，以便大家对调参过程有一定的理解。接下来我们将对以下参数进行调整：criterion、max_depth。\n",
    "\n",
    "## 1.criterion\n",
    "\n",
    "该参数对应的三个函数对应我们上文讲过的信息增益，增益率和基尼系数，每个函数对应的评价指标有所不同，有各自的特点。接下来我们尝试将该参数进行更换为信息增益--entropy。"
   ]
  },
  {
   "cell_type": "code",
   "execution_count": 7,
   "id": "2ae17832",
   "metadata": {},
   "outputs": [
    {
     "name": "stdout",
     "output_type": "stream",
     "text": [
      "Accuracy:0.7666666666666667\n"
     ]
    }
   ],
   "source": [
    "from sklearn.datasets import load_iris # 导入鸢尾花数据集\n",
    "from sklearn import tree # 导入决策树包\n",
    "from sklearn.metrics import accuracy_score # 导入准确率评价指标\n",
    "iris = load_iris() # 载入数据集\n",
    "clf = tree.DecisionTreeClassifier(criterion = 'entropy') #更换criterion参数\n",
    "clf.fit(iris.data[:120], iris.target[:120]) # 模型训练，取前五分之四作训练集\n",
    "predictions = clf.predict(iris.data[120:]) # 模型测试，取后五分之一作测试集\n",
    "print('Accuracy:%s'% accuracy_score(iris.target[120:], predictions))\n"
   ]
  },
  {
   "attachments": {},
   "cell_type": "markdown",
   "id": "4c8b8aea",
   "metadata": {},
   "source": [
    "## 2.max_depth\n",
    "该参数为树的最大深度，当样本中的特征较多时，设置适当的最大深度可以防止模型过拟合。接下来我们将尝试调整max_depth这个参数以达到模型更好的效果。"
   ]
  },
  {
   "cell_type": "code",
   "execution_count": 8,
   "id": "da012fb1",
   "metadata": {},
   "outputs": [
    {
     "name": "stdout",
     "output_type": "stream",
     "text": [
      "Accuracy:0.8333333333333334\n"
     ]
    }
   ],
   "source": [
    "from sklearn.datasets import load_iris # 导入鸢尾花数据集\n",
    "from sklearn import tree # 导入决策树包\n",
    "from sklearn.metrics import accuracy_score # 导入准确率评价指标\n",
    "iris = load_iris() # 载入数据集\n",
    "clf = tree.DecisionTreeClassifier(max_depth=2) #更换max_depth参数\n",
    "clf.fit(iris.data[:120], iris.target[:120]) # 模型训练，取前五分之四作训练集\n",
    "predictions = clf.predict(iris.data[120:]) # 模型测试，取后五分之一作测试集\n",
    "print('Accuracy:%s'% accuracy_score(iris.target[120:], predictions))\n"
   ]
  },
  {
   "cell_type": "code",
   "execution_count": null,
   "id": "e7dc89af",
   "metadata": {},
   "outputs": [],
   "source": []
  }
 ],
 "metadata": {
  "kernelspec": {
   "display_name": "Python 3",
   "language": "python",
   "name": "python3"
  },
  "language_info": {
   "codemirror_mode": {
    "name": "ipython",
    "version": 3
   },
   "file_extension": ".py",
   "mimetype": "text/x-python",
   "name": "python",
   "nbconvert_exporter": "python",
   "pygments_lexer": "ipython3",
   "version": "3.6.13"
  }
 },
 "nbformat": 4,
 "nbformat_minor": 5
}
